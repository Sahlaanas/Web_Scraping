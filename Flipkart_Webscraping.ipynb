{
 "cells": [
  {
   "cell_type": "code",
   "execution_count": 1,
   "id": "7fba9df1-d4f6-4a3f-95e1-dfdfc465946d",
   "metadata": {},
   "outputs": [],
   "source": [
    "import pandas as pd\n",
    "import requests\n",
    "from bs4 import BeautifulSoup"
   ]
  },
  {
   "cell_type": "code",
   "execution_count": 2,
   "id": "d1631c25-4f25-4324-b86b-cf8382aae05b",
   "metadata": {},
   "outputs": [],
   "source": [
    "\n",
    "HEADER = ({'User-Agent':'Mozilla/5.0 (Macintosh; Intel Mac OS X 10_15_7) AppleWebKit/537.36 (KHTML, like Gecko) Chrome/120.0.0.0 Safari/537.36','Accept-Language':'en-US,en;q=0.5'})"
   ]
  },
  {
   "cell_type": "code",
   "execution_count": 3,
   "id": "6365c39a-33fe-4aca-b3f6-d29bc52ea22f",
   "metadata": {},
   "outputs": [],
   "source": [
    "url = 'https://www.flipkart.com/search?q=laptops&otracker=search&otracker1=search&marketplace=FLIPKART&as-show=off&as=off&page=4'"
   ]
  },
  {
   "cell_type": "code",
   "execution_count": 4,
   "id": "e9dc9174-a74d-4a16-a2e6-ec2303d393ae",
   "metadata": {},
   "outputs": [
    {
     "name": "stdout",
     "output_type": "stream",
     "text": [
      "<Response [429]>\n"
     ]
    }
   ],
   "source": [
    "r = requests.get(url,headers = HEADER)\n",
    "print(r)"
   ]
  },
  {
   "cell_type": "code",
   "execution_count": 239,
   "id": "854979e1-6c8a-4382-8710-11c260c46acc",
   "metadata": {},
   "outputs": [],
   "source": [
    "soup = BeautifulSoup(r.content,'html.parser')"
   ]
  },
  {
   "cell_type": "code",
   "execution_count": 240,
   "id": "4811e19e-405b-488a-90ad-6257928ea2cc",
   "metadata": {},
   "outputs": [],
   "source": [
    "l1 = []\n",
    "for i in soup.find_all(\"div\",attrs = {'class':'_4rR01T'}):\n",
    "    l1.append(i.text)"
   ]
  },
  {
   "cell_type": "code",
   "execution_count": 241,
   "id": "45038b25-4c80-4e32-8136-b6e5cd7e6816",
   "metadata": {},
   "outputs": [],
   "source": [
    "l2 = []\n",
    "for i in soup.find_all(\"li\",attrs={'class':'rgWa7D'}):\n",
    "    l2.append(i.text)"
   ]
  },
  {
   "cell_type": "code",
   "execution_count": 242,
   "id": "810d07b9-aef6-47b2-abf4-4ca3854c6f52",
   "metadata": {},
   "outputs": [],
   "source": [
    "price = []\n",
    "for i in soup.find_all(\"div\",attrs={'class':'_30jeq3 _1_WHN1'}):\n",
    "    price.append(i.text)\n",
    " "
   ]
  },
  {
   "cell_type": "code",
   "execution_count": null,
   "id": "97b7f959-921c-491b-932f-dc636f2131a4",
   "metadata": {},
   "outputs": [],
   "source": [
    "large_list = []\n",
    "i=0\n",
    "while i <= len(l2):\n",
    "    print(l2[i:i+6])\n",
    "    i += 6\n",
    "    print(i)\n",
    " "
   ]
  },
  {
   "cell_type": "code",
   "execution_count": 249,
   "id": "ac2213cc-3464-4dfb-b8f6-749cfb57767f",
   "metadata": {},
   "outputs": [
    {
     "name": "stdout",
     "output_type": "stream",
     "text": [
      "['Intel Core i5 Processor (12th Gen)', '8 GB DDR4 RAM', 'Windows 11 Operating System', '512 GB SSD', '39.62 cm (15.6 Inch) Display', '1 Year Onsite Warranty']\n",
      "6\n",
      "['Intel Core i7 Processor (12th Gen)', '16 GB DDR4 RAM', 'Windows 11 Operating System', '1 TB SSD', '39.62 cm (15.6 Inch) Display', '1 Year International Travelers Warranty (ITW)']\n",
      "12\n"
     ]
    }
   ],
   "source": [
    "i=0\n",
    "while i <= 11:\n",
    "    print(l2[i:i+6])\n",
    "    large_list.append(l2[i:i+6])\n",
    "    i += 6\n",
    "    print(i)\n",
    " "
   ]
  },
  {
   "cell_type": "code",
   "execution_count": 250,
   "id": "7d6d80d8-bea3-4533-be38-a80a7d52c808",
   "metadata": {},
   "outputs": [
    {
     "data": {
      "text/plain": [
       "2"
      ]
     },
     "execution_count": 250,
     "metadata": {},
     "output_type": "execute_result"
    }
   ],
   "source": [
    "len(large_list)"
   ]
  },
  {
   "cell_type": "code",
   "execution_count": 258,
   "id": "130f9459-d194-41d7-9146-b41a0c80efc3",
   "metadata": {},
   "outputs": [
    {
     "name": "stdout",
     "output_type": "stream",
     "text": [
      "18\n"
     ]
    }
   ],
   "source": [
    "i=12\n",
    "while i <= 17:\n",
    "    ss=l2[i:i+7]\n",
    "    #large_list.append(l2[i:i+6])\n",
    "    i += 6\n",
    "    print(i)\n",
    " "
   ]
  },
  {
   "cell_type": "code",
   "execution_count": 260,
   "id": "2ef17a54-df0f-44cf-8491-777e2a8fda63",
   "metadata": {},
   "outputs": [
    {
     "data": {
      "text/plain": [
       "'NA'"
      ]
     },
     "execution_count": 260,
     "metadata": {},
     "output_type": "execute_result"
    }
   ],
   "source": [
    "ss.pop(-2)"
   ]
  },
  {
   "cell_type": "code",
   "execution_count": 261,
   "id": "b9be2fd1-ded4-4107-a736-7ff83b2d286a",
   "metadata": {},
   "outputs": [],
   "source": [
    "large_list.append(ss)"
   ]
  },
  {
   "cell_type": "code",
   "execution_count": 262,
   "id": "996272b4-99d0-4713-8563-52c3754af20c",
   "metadata": {},
   "outputs": [
    {
     "data": {
      "text/plain": [
       "3"
      ]
     },
     "execution_count": 262,
     "metadata": {},
     "output_type": "execute_result"
    }
   ],
   "source": [
    "len(large_list)"
   ]
  },
  {
   "cell_type": "code",
   "execution_count": 267,
   "id": "ab19ab1f-887c-479e-847f-a7b879e23664",
   "metadata": {},
   "outputs": [
    {
     "name": "stdout",
     "output_type": "stream",
     "text": [
      "25\n"
     ]
    }
   ],
   "source": [
    "i=19\n",
    "while i <= 24:\n",
    "    ss=l2[i:i+7]\n",
    "    #large_list.append(l2[i:i+6])\n",
    "    i += 6\n",
    "    print(i)\n",
    " "
   ]
  },
  {
   "cell_type": "code",
   "execution_count": 290,
   "id": "0f41f609-11e1-43b3-8722-685cf0a73150",
   "metadata": {},
   "outputs": [
    {
     "data": {
      "text/plain": [
       "8"
      ]
     },
     "execution_count": 290,
     "metadata": {},
     "output_type": "execute_result"
    }
   ],
   "source": [
    "len(large_list)"
   ]
  },
  {
   "cell_type": "code",
   "execution_count": 294,
   "id": "9d3d0644-0a15-4d6f-acb0-7442c513ab21",
   "metadata": {},
   "outputs": [
    {
     "name": "stdout",
     "output_type": "stream",
     "text": [
      "['Intel Core i5 Processor (11th Gen)', '8 GB DDR4 RAM', 'Windows 11 Operating System', '512 GB SSD', '39.62 cm (15.6 Inch) Display', '1 Year Onsite Warranty']\n",
      "57\n"
     ]
    }
   ],
   "source": [
    "i=51\n",
    "while i <= 56:\n",
    "    print(l2[i:i+6])\n",
    "    large_list.append(l2[i:i+6])\n",
    "    i += 6\n",
    "    print(i)"
   ]
  },
  {
   "cell_type": "code",
   "execution_count": 301,
   "id": "95ad15d5-5b79-49a0-8617-1ee355afb892",
   "metadata": {},
   "outputs": [
    {
     "name": "stdout",
     "output_type": "stream",
     "text": [
      "69\n"
     ]
    }
   ],
   "source": [
    "i=63\n",
    "while i <= 68:\n",
    "    ss=l2[i:i+7]\n",
    "    #large_list.append(l2[i:i+6])\n",
    "    i += 6\n",
    "    print(i)"
   ]
  },
  {
   "cell_type": "code",
   "execution_count": 302,
   "id": "abc1aa16-a5e3-47a5-b746-bc11ff13adad",
   "metadata": {},
   "outputs": [
    {
     "data": {
      "text/plain": [
       "'Operating System Software'"
      ]
     },
     "execution_count": 302,
     "metadata": {},
     "output_type": "execute_result"
    }
   ],
   "source": [
    "ss.pop(-2)"
   ]
  },
  {
   "cell_type": "code",
   "execution_count": 303,
   "id": "973c2970-ae8e-428c-b804-0bef911a0531",
   "metadata": {},
   "outputs": [],
   "source": [
    "large_list.append(ss)"
   ]
  },
  {
   "cell_type": "code",
   "execution_count": 329,
   "id": "e5ce9aad-9e82-479d-90f5-0d03dc1ef8f9",
   "metadata": {},
   "outputs": [
    {
     "data": {
      "text/plain": [
       "14"
      ]
     },
     "execution_count": 329,
     "metadata": {},
     "output_type": "execute_result"
    }
   ],
   "source": [
    "len(large_list)"
   ]
  },
  {
   "cell_type": "code",
   "execution_count": 312,
   "id": "f5b38322-a1a9-4446-8ba4-be14e72b6f49",
   "metadata": {},
   "outputs": [
    {
     "name": "stdout",
     "output_type": "stream",
     "text": [
      "76\n"
     ]
    }
   ],
   "source": [
    "i=70\n",
    "while i <= 75:\n",
    "    ss=l2[i:i+7]\n",
    "    #large_list.append(l2[i:i+6])\n",
    "    i += 6\n",
    "    print(i)"
   ]
  },
  {
   "cell_type": "code",
   "execution_count": 315,
   "id": "5e79d300-5add-457d-a6b4-37763183325e",
   "metadata": {},
   "outputs": [],
   "source": [
    "large_list.append(ss)"
   ]
  },
  {
   "cell_type": "code",
   "execution_count": 320,
   "id": "be68d88c-2c10-48d4-953b-bc01a250d727",
   "metadata": {},
   "outputs": [
    {
     "name": "stdout",
     "output_type": "stream",
     "text": [
      "['Intel Core i5 Processor (11th Gen)', '8 GB DDR4 RAM', 'Windows 11 Operating System', '512 GB SSD', '39.62 cm (15.6 inch) Display', '1 Year Onsite Warranty']\n",
      "83\n",
      "['AMD Ryzen 5 Hexa Core Processor', '8 GB DDR4 RAM', 'Windows 11 Operating System', '512 GB SSD', '35.56 cm (14 inch) Touchscreen Display', '1 Year Onsite Warranty']\n",
      "89\n"
     ]
    }
   ],
   "source": [
    "i=77\n",
    "while i <= 88:\n",
    "    #ss=l2[i:i+7]\n",
    "    print(l2[i:i+6])\n",
    "    large_list.append(l2[i:i+6])\n",
    "    i += 6\n",
    "    print(i)"
   ]
  },
  {
   "cell_type": "code",
   "execution_count": 325,
   "id": "84dad392-773d-42ab-b441-bab21fd866a4",
   "metadata": {},
   "outputs": [
    {
     "name": "stdout",
     "output_type": "stream",
     "text": [
      "97\n"
     ]
    }
   ],
   "source": [
    "i=91\n",
    "while i <= 96:\n",
    "    ss=l2[i:i+7]\n",
    "    #print(l2[i:i+6])\n",
    "    #large_list.append(l2[i:i+6])\n",
    "    i += 6\n",
    "    print(i)"
   ]
  },
  {
   "cell_type": "code",
   "execution_count": 341,
   "id": "c0abe04e-9ae6-486c-a98c-d4161fa8345b",
   "metadata": {},
   "outputs": [
    {
     "data": {
      "text/plain": [
       "15"
      ]
     },
     "execution_count": 341,
     "metadata": {},
     "output_type": "execute_result"
    }
   ],
   "source": [
    "len(large_list)"
   ]
  },
  {
   "cell_type": "code",
   "execution_count": 344,
   "id": "f0030b9e-98c3-43d9-a825-9206cfff89ef",
   "metadata": {},
   "outputs": [
    {
     "name": "stdout",
     "output_type": "stream",
     "text": [
      "['AMD Ryzen 5 Hexa Core Processor', '8 GB DDR5 RAM', 'Windows 11 Operating System', '512 GB SSD', '100.63 cm (39.62 cm) Display', '1 Year Onsite Warranty']\n",
      "112\n",
      "['Intel Core i3 Processor (12th Gen)', '8 GB DDR4 RAM', 'Windows 11 Operating System', '512 GB SSD', '39.62 cm (15.6 Inch) Display', '1 Year Onsite Warranty']\n",
      "118\n",
      "['Intel Core i3 Processor (11th Gen)', '8 GB DDR4 RAM', '64 bit Windows 11 Operating System', '512 GB SSD', '35.56 cm (14 inch) Display', 'Microsoft Office Home & Student 2021']\n",
      "124\n",
      "['1 Year Onsite Warranty', 'Intel Core i5 Processor (12th Gen)', '8 GB DDR4 RAM', '64 bit Windows 11 Operating System', '512 GB SSD', '39.62 cm (15.6 Inch) Display']\n",
      "130\n",
      "['2 Year warranty', 'Intel Core i5 Processor (11th Gen)', '8 GB DDR4 RAM', 'Windows 11 Operating System', '512 GB SSD', '39.62 cm (15.6 Inch) Display']\n",
      "136\n",
      "['1 Year Onsite Warranty', 'Intel Core i3 Processor (12th Gen)', '8 GB LPDDR4X RAM', 'Windows 11 Operating System', '512 GB SSD', '35.56 cm (14 Inch) Display']\n",
      "142\n",
      "['1 Year Onsite Warranty', 'Stylish & Portable Thin and Light Laptop', 'LPDDR5 RAM -faster & low power consuming', 'Firmware TPM (Trusted Platform Module)-Improved Security of your PC', 'FHD 1080p screen with 250 Nits brightness', 'Latest WiFi 6']\n",
      "148\n",
      "['AMD Ryzen 5 Quad Core Processor', '8 GB LPDDR5 RAM', '64 bit Windows 11 Operating System', '512 GB SSD', '39.62 cm (15.6 Inch) Display', '1 Year International Travelers Warranty']\n",
      "154\n",
      "['AMD Ryzen 7 Octa Core Processor', '16 GB DDR4 RAM', 'Windows 11 Operating System', '512 GB SSD', '40.64 cm (16 Inch) Display', '1 Year Onsite Warranty']\n",
      "160\n",
      "['AMD Ryzen 5 Hexa Core Processor', '16 GB DDR4 RAM', 'Windows 11 Operating System', '512 GB SSD', '39.62 cm (15.6 inch) Display', '1 Year Onsite Warranty']\n",
      "166\n",
      "[]\n",
      "172\n"
     ]
    }
   ],
   "source": [
    "i=106\n",
    "while i <= len(l2):\n",
    "    #ss=l2[i:i+7]\n",
    "    print(l2[i:i+6])\n",
    "    #large_list.append(l2[i:i+6])\n",
    "    i += 6\n",
    "    print(i)"
   ]
  },
  {
   "cell_type": "code",
   "execution_count": 340,
   "id": "b49eaa0f-0f60-403a-b639-441ce02ca51c",
   "metadata": {},
   "outputs": [],
   "source": [
    "large_list.append(ss)"
   ]
  },
  {
   "cell_type": "code",
   "execution_count": null,
   "id": "fe310ce0-c782-4f22-b7ab-5684cb665376",
   "metadata": {},
   "outputs": [],
   "source": []
  },
  {
   "cell_type": "code",
   "execution_count": 220,
   "id": "642a059c-3281-4887-93ff-470a0c630497",
   "metadata": {},
   "outputs": [],
   "source": [
    "import copy\n",
    "new_list =copy.deepcopy(large_list)"
   ]
  },
  {
   "cell_type": "code",
   "execution_count": null,
   "id": "47958e2b-f691-4211-8756-ec21db2ba566",
   "metadata": {},
   "outputs": [],
   "source": [
    "k=0\n",
    "for i in new_list:\n",
    "    i.insert(0,l1[k])\n",
    "    k += 1\n"
   ]
  },
  {
   "cell_type": "code",
   "execution_count": 222,
   "id": "555d7d7e-85ca-4952-8fa8-d6d74949ebde",
   "metadata": {},
   "outputs": [],
   "source": [
    "k=0\n",
    "for i in new_list:\n",
    "    i.append(price[k])\n",
    "    k+=1"
   ]
  },
  {
   "cell_type": "code",
   "execution_count": 223,
   "id": "64e10e2a-ec3e-40ab-be0b-36bf1ba95eaf",
   "metadata": {},
   "outputs": [
    {
     "data": {
      "text/plain": [
       "[['MSI Modern 14 Intel Core i5 11th Gen 1155G7 - (8 GB/512 GB SSD/Windows 11 Home) Modern 14 C11M-030IN T...',\n",
       "  'Intel Core i5 Processor (11th Gen)',\n",
       "  '8 GB DDR4 RAM',\n",
       "  'Windows 11 Operating System',\n",
       "  '512 GB SSD',\n",
       "  '35.56 cm (14 Inch) Display',\n",
       "  '1 Year Carry-in Warranty',\n",
       "  '₹36,990'],\n",
       " ['HP Pavilion AMD Ryzen 5 Hexa Core 5625U - (8 GB/512 GB SSD/Windows 11 Home) 14-EC1003AU Thin and Light...',\n",
       "  'AMD Ryzen 5 Hexa Core Processor',\n",
       "  '8 GB DDR4 RAM',\n",
       "  '64 bit Windows 11 Operating System',\n",
       "  '512 GB SSD',\n",
       "  '35.56 cm (14 Inch) Display',\n",
       "  '1 Year Onsite Warranty',\n",
       "  '₹52,990'],\n",
       " ['Lenovo IdeaPad Slim 3 Intel Core i5 11th Gen 1135G7 - (16 GB/512 GB SSD/Windows 11 Home) 15ITL6 Thin a...',\n",
       "  'Intel Core i5 Processor (11th Gen)',\n",
       "  '16 GB DDR4 RAM',\n",
       "  'Windows 11 Operating System',\n",
       "  '512 GB SSD',\n",
       "  '39.62 cm (15.6 inch) Display',\n",
       "  '1 Year Onsite Warranty + 1 Year ADP',\n",
       "  '₹43,990'],\n",
       " ['WINGS Nuvobook S1 Aluminium Alloy Metal Body Intel Intel Core i3 11th Gen 1125G4 - (8 GB/256 GB SSD/Wi...',\n",
       "  'Intel Core i3 Processor (11th Gen)',\n",
       "  '8 GB DDR4 RAM',\n",
       "  'Windows 11 Operating System',\n",
       "  '256 GB SSD',\n",
       "  '39.62 cm (15.6 Inch) Display',\n",
       "  '1 Year Onsite Warranty',\n",
       "  '₹27,990'],\n",
       " ['HP Intel Celeron Dual Core N4500 - (8 GB/512 GB SSD/Windows 11 Home) 15s- fq3066TU Thin and Light Lapt...',\n",
       "  'Intel Celeron Dual Core Processor',\n",
       "  '8 GB DDR4 RAM',\n",
       "  'Windows 11 Operating System',\n",
       "  '512 GB SSD',\n",
       "  '39.62 cm (15.6 inch) Display',\n",
       "  '1 Year Onsite Warranty',\n",
       "  '₹27,990'],\n",
       " ['Acer Aspire 3 AMD Ryzen 3 Quad Core 7320U - (8 GB/512 GB SSD/Windows 11 Home) A315-24P Thin and Light ...',\n",
       "  'AMD Ryzen 3 Quad Core Processor',\n",
       "  '8 GB LPDDR5 RAM',\n",
       "  'Windows 11 Operating System',\n",
       "  '512 GB SSD',\n",
       "  '39.62 cm (15.6 Inch) Display',\n",
       "  '1 Year Onsite Warranty',\n",
       "  '₹29,990'],\n",
       " ['MSI Katana 15 Intel Core i5 12th Gen 12450H - (16 GB/512 GB SSD/Windows 11 Home/6 GB Graphics/NVIDIA G...',\n",
       "  'Intel Core i5 Processor (12th Gen)',\n",
       "  '16 GB DDR5 RAM',\n",
       "  'Windows 11 Operating System',\n",
       "  '512 GB SSD',\n",
       "  '39.62 cm (15.6 Inch) Display',\n",
       "  '2 Year On-Site & Carry-In Warranty',\n",
       "  '₹72,990'],\n",
       " ['ASUS Vivobook 15 Intel Core i3 11th Gen 1115G4 - (8 GB/512 GB SSD/Windows 11 Home) X515EA-EJ322WS | X5...',\n",
       "  'Intel Core i3 Processor (11th Gen)',\n",
       "  '8 GB DDR4 RAM',\n",
       "  '64 bit Windows 11 Operating System',\n",
       "  '512 GB SSD',\n",
       "  '39.62 cm (15.6 Inch) Display',\n",
       "  '1 Year Onsite Warranty',\n",
       "  '₹33,990'],\n",
       " ['WINGS Nuvobook V1 Aluminium Alloy Metal Body Intel Intel Core i5 11th Gen 1155G7 - (8 GB/512 GB SSD/Wi...',\n",
       "  'Intel Core i5 Processor (11th Gen)',\n",
       "  '8 GB DDR4 RAM',\n",
       "  'Windows 11 Operating System',\n",
       "  '512 GB SSD',\n",
       "  '39.62 cm (15.6 Inch) Display',\n",
       "  '1 Year Onsite Warranty',\n",
       "  '₹27,990'],\n",
       " ['Lenovo IdeaPad Slim 3 Intel Core i5 12th Gen 1235U - (8 GB/512 GB SSD/Windows 11 Home) 15IAU7 Thin and...',\n",
       "  'Intel Core i5 Processor (12th Gen)',\n",
       "  '8 GB DDR4 RAM',\n",
       "  '64 bit Windows 11 Operating System',\n",
       "  '512 GB SSD',\n",
       "  '39.62 cm (15.6 Inch) Display',\n",
       "  '2 Year warranty',\n",
       "  '₹49,990'],\n",
       " ['Acer Aspire 3 Intel Core i5 12th Gen 1235U - (16 GB/512 GB SSD/Windows 11 Home) A315-59 Thin and Light...',\n",
       "  'Intel Core i5 Processor (12th Gen)',\n",
       "  '16 GB DDR4 RAM',\n",
       "  '64 bit Windows 11 Operating System',\n",
       "  '512 GB SSD',\n",
       "  '39.62 cm (15.6 Inch) Display',\n",
       "  '1 Year International Travelers Warranty',\n",
       "  '₹42,990'],\n",
       " ['CHUWI Intel Core i3 10th Gen 1005G1 - (8 GB/512 GB SSD/Windows 11 Home) CoreBook X Grey Laptop',\n",
       "  'Intel Core i3 Processor (10th Gen)',\n",
       "  '8 GB DDR4 RAM',\n",
       "  '64 bit Windows 11 Operating System',\n",
       "  '512 GB SSD',\n",
       "  '35.56 cm (14 inch) Display',\n",
       "  '1 Year Onsite Warranty',\n",
       "  '₹23,990'],\n",
       " ['Lenovo IdeaPad Gaming 3 Intel Core i5 11th Gen 11300H - (8 GB/512 GB SSD/Windows 11 Home/4 GB Graphics...',\n",
       "  'Intel Core i5 Processor (11th Gen)',\n",
       "  '8 GB DDR4 RAM',\n",
       "  'Windows 11 Operating System',\n",
       "  '512 GB SSD',\n",
       "  '39.62 cm (15.6 Inch) Display',\n",
       "  '1 Year Onsite Warranty',\n",
       "  '₹46,990'],\n",
       " ['Lenovo IdeaPad Slim 3 Intel Core i5 11th Gen 1155G7 - (8 GB/512 GB SSD/Windows 11 Home) 15ITL6 Thin an...',\n",
       "  'Intel Core i5 Processor (11th Gen)',\n",
       "  '8 GB DDR4 RAM',\n",
       "  '64 bit Windows 11 Operating System',\n",
       "  '512 GB SSD',\n",
       "  '39.62 cm (15.6 inch) Display',\n",
       "  '1Year Onsite warranty',\n",
       "  '₹40,990'],\n",
       " ['Lenovo V15 AMD Ryzen 3 Quad Core 7320U - (8 GB/512 GB SSD/DOS) V15 G4 Thin and Light Laptop',\n",
       "  'AMD Ryzen 3 Quad Core Processor',\n",
       "  '8 GB LPDDR5 RAM',\n",
       "  'DOS Operating System',\n",
       "  '512 GB SSD',\n",
       "  '39.62 cm (15.6 Inch) Display',\n",
       "  '1 Year Onsite Warranty',\n",
       "  '₹27,990'],\n",
       " ['Lenovo V15 AMD Ryzen 3 Quad Core 7320U - (8 GB/512 GB SSD/Windows 11 Home) V15 G4 Thin and Light Lapto...',\n",
       "  'AMD Ryzen 3 Quad Core Processor',\n",
       "  '8 GB LPDDR5 RAM',\n",
       "  'Windows 11 Operating System',\n",
       "  '512 GB SSD',\n",
       "  '39.62 cm (15.6 Inch) Display',\n",
       "  '1 Year Onsite Warranty',\n",
       "  '₹29,990'],\n",
       " ['Infinix INBook Y1 Plus Intel Intel Core i3 10th Gen 1005G1 - (8 GB/512 GB SSD/Windows 11 Home) XL28 Th...',\n",
       "  'Intel Core i3 Processor (10th Gen)',\n",
       "  '8 GB LPDDR4X RAM',\n",
       "  '64 bit Windows 11 Operating System',\n",
       "  '512 GB SSD',\n",
       "  '99.06 cm (39 cm) Display',\n",
       "  '1 Year Onsite Warranty',\n",
       "  '₹25,990'],\n",
       " ['Lenovo IdeaPad Slim 3 Intel Core i3 11th Gen - (8 GB/256 GB SSD/Windows 11 Home) 15ITL6 Thin and Light...',\n",
       "  'Intel Core i3 Processor (11th Gen)',\n",
       "  '8 GB DDR4 RAM',\n",
       "  'Windows 11 Operating System',\n",
       "  '256 GB SSD',\n",
       "  '100.63 cm (39.62 cm) Display',\n",
       "  '1Year Onsite warranty + 1 Year Accidental Damage Protection',\n",
       "  '₹31,990'],\n",
       " ['Lenovo LOQ Intel Core i5 12th Gen 12450H - (16 GB/512 GB SSD/Windows 11 Home/4 GB Graphics/NVIDIA GeFo...',\n",
       "  'Intel Core i5 Processor (12th Gen)',\n",
       "  '16 GB DDR5 RAM',\n",
       "  'Windows 11 Operating System',\n",
       "  '512 GB SSD',\n",
       "  '39.62 cm (15.6 inch) Display',\n",
       "  '1 Year Onsite Warranty',\n",
       "  '₹64,990'],\n",
       " ['WINGS Nuvobook V1 Aluminium Alloy Metal Body Intel Intel Core i5 11th Gen 1155G7 - (8 GB/512 GB SSD/Wi...',\n",
       "  'Intel Core i5 Processor (11th Gen)',\n",
       "  '8 GB DDR4 RAM',\n",
       "  'Windows 11 Operating System',\n",
       "  '512 GB SSD',\n",
       "  '39.62 cm (15.6 Inch) Display',\n",
       "  '1 Year Onsite Warranty',\n",
       "  '₹27,990'],\n",
       " ['Acer Aspire 3 AMD Ryzen 3 Quad Core 7320U - (8 GB/256 GB SSD/Windows 11 Home) A315-24P-R7HM Thin and L...',\n",
       "  'AMD Ryzen 3 Quad Core Processor',\n",
       "  '8 GB LPDDR5 RAM',\n",
       "  'Windows 11 Operating System',\n",
       "  '256 GB SSD',\n",
       "  '39.62 cm (15.6 Inch) Display',\n",
       "  '1 Year Onsite Warranty',\n",
       "  '₹27,990'],\n",
       " ['HP AMD Ryzen 3 Quad Core 5300U - (8 GB/512 GB SSD/Windows 11 Home) fq1089au Thin and Light Laptop',\n",
       "  'AMD Ryzen 3 Quad Core Processor',\n",
       "  '8 GB DDR4 RAM',\n",
       "  '64 bit Windows 11 Operating System',\n",
       "  '512 GB SSD',\n",
       "  '35.56 cm (14 Inch) Display',\n",
       "  '1 Year onsite warranty',\n",
       "  '₹35,980'],\n",
       " ['Lenovo IdeaPad Slim 3 AMD Ryzen 5 Quad Core 7520U - (16 GB/512 GB SSD/Windows 11 Home) 15AMN8 Thin and...',\n",
       "  'AMD Ryzen 5 Quad Core Processor',\n",
       "  '16 GB LPDDR5 RAM',\n",
       "  'Windows 11 Operating System',\n",
       "  '512 GB SSD',\n",
       "  '39.62 cm (15.6 Inch) Display',\n",
       "  '1 Year Carry-in Warranty',\n",
       "  '₹42,311'],\n",
       " ['MSI GF63 Intel Core i5 11th Gen 11260H - (8 GB/512 GB SSD/Windows 11 Home/4 GB Graphics/NVIDIA GeForce...',\n",
       "  'Intel Core i5 Processor (11th Gen)',\n",
       "  '8 GB DDR4 RAM',\n",
       "  'Windows 11 Operating System',\n",
       "  '512 GB SSD',\n",
       "  '39.62 cm (15.6 Inch) Display',\n",
       "  '2 Year Carry-in Warranty',\n",
       "  '₹44,990']]"
      ]
     },
     "execution_count": 223,
     "metadata": {},
     "output_type": "execute_result"
    }
   ],
   "source": [
    "new_list"
   ]
  },
  {
   "cell_type": "code",
   "execution_count": 224,
   "id": "884fe9a2-4c05-40ec-a084-90e138b72768",
   "metadata": {},
   "outputs": [
    {
     "name": "stdout",
     "output_type": "stream",
     "text": [
      "(24, 8)\n"
     ]
    }
   ],
   "source": [
    "import pandas as pd\n",
    "columns = ['Title','Processor','RAM','OS','Memory','Display','Warranty','Price']\n",
    "df1 = pd.DataFrame(new_list,columns = columns)\n",
    "print(df1.shape)\n",
    "file_path = 'df3.csv'\n",
    "df1.to_csv(file_path, index=False)"
   ]
  },
  {
   "cell_type": "code",
   "execution_count": 225,
   "id": "2412d81f-2eda-47d1-ab87-7e3e8ac6ca7b",
   "metadata": {},
   "outputs": [],
   "source": [
    "df1 = pd.read_csv('df1.csv')"
   ]
  },
  {
   "cell_type": "code",
   "execution_count": 227,
   "id": "597b88ba-c360-43a2-b27c-dc7ff696eb2c",
   "metadata": {},
   "outputs": [],
   "source": [
    "df2 = pd.read_csv('df2.csv')"
   ]
  },
  {
   "cell_type": "code",
   "execution_count": 228,
   "id": "84193a38-b0f6-4fc1-8dfa-1b1e4d0bc7d4",
   "metadata": {},
   "outputs": [],
   "source": [
    "df3 = pd.read_csv('df3.csv')\n"
   ]
  },
  {
   "cell_type": "code",
   "execution_count": 232,
   "id": "fa60bae0-1441-4bcd-b092-703cdfa52427",
   "metadata": {},
   "outputs": [],
   "source": [
    "df = pd.concat([df1,df2,df3],axis = 0,ignore_index=True)"
   ]
  },
  {
   "cell_type": "code",
   "execution_count": 233,
   "id": "8c3177a7-a4ae-4481-b94d-0b36a9520000",
   "metadata": {},
   "outputs": [
    {
     "data": {
      "text/html": [
       "<div>\n",
       "<style scoped>\n",
       "    .dataframe tbody tr th:only-of-type {\n",
       "        vertical-align: middle;\n",
       "    }\n",
       "\n",
       "    .dataframe tbody tr th {\n",
       "        vertical-align: top;\n",
       "    }\n",
       "\n",
       "    .dataframe thead th {\n",
       "        text-align: right;\n",
       "    }\n",
       "</style>\n",
       "<table border=\"1\" class=\"dataframe\">\n",
       "  <thead>\n",
       "    <tr style=\"text-align: right;\">\n",
       "      <th></th>\n",
       "      <th>Title</th>\n",
       "      <th>Processor</th>\n",
       "      <th>RAM</th>\n",
       "      <th>OS</th>\n",
       "      <th>Memory</th>\n",
       "      <th>Display</th>\n",
       "      <th>Warranty</th>\n",
       "      <th>Price</th>\n",
       "    </tr>\n",
       "  </thead>\n",
       "  <tbody>\n",
       "    <tr>\n",
       "      <th>0</th>\n",
       "      <td>Lenovo IdeaPad 1 AMD Athlon Dual Core 7120U - ...</td>\n",
       "      <td>AMD Athlon Dual Core Processor</td>\n",
       "      <td>8 GB LPDDR5 RAM</td>\n",
       "      <td>Windows 11 Operating System</td>\n",
       "      <td>512 GB SSD</td>\n",
       "      <td>39.62 cm (15.6 inch) Display</td>\n",
       "      <td>1 Year Carry-in Warranty</td>\n",
       "      <td>₹26,990</td>\n",
       "    </tr>\n",
       "    <tr>\n",
       "      <th>1</th>\n",
       "      <td>ZEBRONICS Pro Series Z Intel Core i7 12th Gen ...</td>\n",
       "      <td>Intel Core i7 Processor (12th Gen)</td>\n",
       "      <td>16 GB DDR4 RAM</td>\n",
       "      <td>Windows 11 Operating System</td>\n",
       "      <td>512 GB SSD</td>\n",
       "      <td>39.62 cm (15.6 inch) Display</td>\n",
       "      <td>1 Year Carry-in Warranty</td>\n",
       "      <td>₹50,990</td>\n",
       "    </tr>\n",
       "    <tr>\n",
       "      <th>2</th>\n",
       "      <td>ASUS Vivobook 15 Intel Core i3 11th Gen 1115G4...</td>\n",
       "      <td>Intel Core i3 Processor (11th Gen)</td>\n",
       "      <td>8 GB DDR4 RAM</td>\n",
       "      <td>64 bit Windows 11 Operating System</td>\n",
       "      <td>256 GB SSD</td>\n",
       "      <td>39.62 cm (15.6 Inch) Display</td>\n",
       "      <td>Not Applicable</td>\n",
       "      <td>₹27,999</td>\n",
       "    </tr>\n",
       "    <tr>\n",
       "      <th>3</th>\n",
       "      <td>Lenovo IdeaPad Slim 1 Intel Celeron Dual Core ...</td>\n",
       "      <td>Intel Celeron Dual Core Processor</td>\n",
       "      <td>8 GB DDR4 RAM</td>\n",
       "      <td>Windows 11 Operating System</td>\n",
       "      <td>256 GB SSD</td>\n",
       "      <td>35.56 cm (14 Inch) Display</td>\n",
       "      <td>1 Year Onsite�Warranty�+ 1 Yr ADP</td>\n",
       "      <td>₹24,990</td>\n",
       "    </tr>\n",
       "    <tr>\n",
       "      <th>4</th>\n",
       "      <td>ASUS Vivobook Go 15 Intel Celeron Dual Core N4...</td>\n",
       "      <td>Intel Celeron Dual Core Processor</td>\n",
       "      <td>8 GB DDR4 RAM</td>\n",
       "      <td>Windows 11 Operating System</td>\n",
       "      <td>256 GB SSD</td>\n",
       "      <td>39.62 cm (15.6 Inch) Display</td>\n",
       "      <td>1 Year Onsite Warranty</td>\n",
       "      <td>₹24,990</td>\n",
       "    </tr>\n",
       "    <tr>\n",
       "      <th>5</th>\n",
       "      <td>APPLE 2022 MacBook AIR Apple M2 - (8 GB/256 GB...</td>\n",
       "      <td>Apple M2 Processor</td>\n",
       "      <td>8 GB Unified Memory RAM</td>\n",
       "      <td>Mac OS Operating System</td>\n",
       "      <td>256 GB SSD</td>\n",
       "      <td>34.54 cm (13.6 Inch) Display</td>\n",
       "      <td>1 Year Onsite Warranty</td>\n",
       "      <td>₹93,990</td>\n",
       "    </tr>\n",
       "    <tr>\n",
       "      <th>6</th>\n",
       "      <td>Acer Aspire 5 Intel Core i5 12th Gen 1235U - (...</td>\n",
       "      <td>Intel Core i5 Processor (12th Gen)</td>\n",
       "      <td>8 GB DDR4 RAM</td>\n",
       "      <td>64 bit Windows 11 Operating System</td>\n",
       "      <td>512 GB SSD</td>\n",
       "      <td>39.62 cm (15.6 Inch) Display</td>\n",
       "      <td>1 Year International Travelers Warranty</td>\n",
       "      <td>₹44,990</td>\n",
       "    </tr>\n",
       "    <tr>\n",
       "      <th>7</th>\n",
       "      <td>ASUS TUF Gaming F15 - AI Powered Gaming Intel ...</td>\n",
       "      <td>Intel Core i5 Processor (11th Gen)</td>\n",
       "      <td>8 GB DDR4 RAM</td>\n",
       "      <td>Windows 11 Operating System</td>\n",
       "      <td>512 GB SSD</td>\n",
       "      <td>39.62 cm (15.6 Inch) Display</td>\n",
       "      <td>1 Year Carry-in Warranty</td>\n",
       "      <td>₹49,990</td>\n",
       "    </tr>\n",
       "    <tr>\n",
       "      <th>8</th>\n",
       "      <td>HP Pavilion (2023) Eyesafe AMD Ryzen 5 Hexa Co...</td>\n",
       "      <td>AMD Ryzen 5 Hexa Core Processor</td>\n",
       "      <td>16 GB DDR4 RAM</td>\n",
       "      <td>64 bit Windows 11 Operating System</td>\n",
       "      <td>512 GB SSD</td>\n",
       "      <td>35.56 cm (14 inch) Display</td>\n",
       "      <td>1 Year Onsite Warranty</td>\n",
       "      <td>₹56,490</td>\n",
       "    </tr>\n",
       "    <tr>\n",
       "      <th>9</th>\n",
       "      <td>Lenovo Intel Core i7 12th Gen 1255U - (16 GB/5...</td>\n",
       "      <td>Intel Core i7 Processor (12th Gen)</td>\n",
       "      <td>16 GB DDR4 RAM</td>\n",
       "      <td>Windows 11 Operating System</td>\n",
       "      <td>512 GB SSD</td>\n",
       "      <td>39.62 cm (15.6 Inch) Display</td>\n",
       "      <td>1 Year Onsite Warranty</td>\n",
       "      <td>₹49,990</td>\n",
       "    </tr>\n",
       "    <tr>\n",
       "      <th>10</th>\n",
       "      <td>Lenovo IdeaPad Slim 3 Intel Core i5 11th Gen 1...</td>\n",
       "      <td>Intel Core i5 Processor (11th Gen)</td>\n",
       "      <td>16 GB DDR4 RAM</td>\n",
       "      <td>Windows 11 Operating System</td>\n",
       "      <td>512 GB SSD</td>\n",
       "      <td>39.62 cm (15.6 inch) Display</td>\n",
       "      <td>1 Year Onsite Warranty + 1 Year ADP</td>\n",
       "      <td>₹43,990</td>\n",
       "    </tr>\n",
       "    <tr>\n",
       "      <th>11</th>\n",
       "      <td>WINGS Nuvobook S1 Aluminium Alloy Metal Body I...</td>\n",
       "      <td>Intel Core i3 Processor (11th Gen)</td>\n",
       "      <td>8 GB DDR4 RAM</td>\n",
       "      <td>Windows 11 Operating System</td>\n",
       "      <td>256 GB SSD</td>\n",
       "      <td>39.62 cm (15.6 Inch) Display</td>\n",
       "      <td>1 Year Onsite Warranty</td>\n",
       "      <td>₹27,990</td>\n",
       "    </tr>\n",
       "    <tr>\n",
       "      <th>12</th>\n",
       "      <td>HP 2023 AMD Ryzen 3 Dual Core 3250U - (8 GB/51...</td>\n",
       "      <td>AMD Ryzen 3 Dual Core Processor</td>\n",
       "      <td>8 GB DDR4 RAM</td>\n",
       "      <td>Windows 11 Operating System</td>\n",
       "      <td>512 GB SSD</td>\n",
       "      <td>39.62 cm (15.6 Inch) Display</td>\n",
       "      <td>1 Year Onsite Warranty</td>\n",
       "      <td>₹33,490</td>\n",
       "    </tr>\n",
       "    <tr>\n",
       "      <th>13</th>\n",
       "      <td>MSI Modern 14 Intel Core i3 11th Gen 1115G4 - ...</td>\n",
       "      <td>Intel Core i3 Processor (11th Gen)</td>\n",
       "      <td>8 GB DDR4 RAM</td>\n",
       "      <td>Windows 11 Operating System</td>\n",
       "      <td>512 GB SSD</td>\n",
       "      <td>35.56 cm (14 Inch) Display</td>\n",
       "      <td>1 Year Carry-in Warranty</td>\n",
       "      <td>₹28,990</td>\n",
       "    </tr>\n",
       "    <tr>\n",
       "      <th>14</th>\n",
       "      <td>ASUS Vivobook Go 15 (2023) AMD Ryzen 5 Quad Co...</td>\n",
       "      <td>AMD Ryzen 5 Quad Core Processor</td>\n",
       "      <td>8 GB LPDDR5 RAM</td>\n",
       "      <td>Windows 11 Operating System</td>\n",
       "      <td>512 GB SSD</td>\n",
       "      <td>39.62 cm (15.6 Inch) Display</td>\n",
       "      <td>1 Year Onsite Warranty</td>\n",
       "      <td>₹37,990</td>\n",
       "    </tr>\n",
       "    <tr>\n",
       "      <th>15</th>\n",
       "      <td>Infinix Y1 Plus Neo Intel Intel Celeron Quad C...</td>\n",
       "      <td>Intel Celeron Quad Core Processor (11th Gen)</td>\n",
       "      <td>8 GB LPDDR4X RAM</td>\n",
       "      <td>Windows 11 Operating System</td>\n",
       "      <td>512 GB SSD</td>\n",
       "      <td>39.01 cm (15.36 inch) Display</td>\n",
       "      <td>1 Year Onsite Warranty</td>\n",
       "      <td>₹23,990</td>\n",
       "    </tr>\n",
       "    <tr>\n",
       "      <th>16</th>\n",
       "      <td>WINGS Nuvobook V1 Aluminium Alloy Metal Body I...</td>\n",
       "      <td>Intel Core i5 Processor (11th Gen)</td>\n",
       "      <td>8 GB DDR4 RAM</td>\n",
       "      <td>Windows 11 Operating System</td>\n",
       "      <td>512 GB SSD</td>\n",
       "      <td>39.62 cm (15.6 Inch) Display</td>\n",
       "      <td>1 Year Onsite Warranty</td>\n",
       "      <td>₹27,990</td>\n",
       "    </tr>\n",
       "    <tr>\n",
       "      <th>17</th>\n",
       "      <td>Lenovo IdeaPad Slim 3 Intel Core i5 12th Gen 1...</td>\n",
       "      <td>Intel Core i5 Processor (12th Gen)</td>\n",
       "      <td>8 GB DDR4 RAM</td>\n",
       "      <td>64 bit Windows 11 Operating System</td>\n",
       "      <td>512 GB SSD</td>\n",
       "      <td>39.62 cm (15.6 Inch) Display</td>\n",
       "      <td>2 Year warranty</td>\n",
       "      <td>₹49,990</td>\n",
       "    </tr>\n",
       "    <tr>\n",
       "      <th>18</th>\n",
       "      <td>Lenovo IdeaPad Slim 3 Intel Core i5 11th Gen 1...</td>\n",
       "      <td>Intel Core i5 Processor (11th Gen)</td>\n",
       "      <td>8 GB DDR4 RAM</td>\n",
       "      <td>64 bit Windows 11 Operating System</td>\n",
       "      <td>512 GB SSD</td>\n",
       "      <td>39.62 cm (15.6 inch) Display</td>\n",
       "      <td>1Year Onsite warranty</td>\n",
       "      <td>₹40,990</td>\n",
       "    </tr>\n",
       "    <tr>\n",
       "      <th>19</th>\n",
       "      <td>Acer Extensa Intel Core i3 N305 - (8 GB/512 GB...</td>\n",
       "      <td>Intel Core i3 Processor</td>\n",
       "      <td>8 GB LPDDR5 RAM</td>\n",
       "      <td>64 bit Windows 11 Operating System</td>\n",
       "      <td>512 GB SSD</td>\n",
       "      <td>39.62 cm (15.6 Inch) Display</td>\n",
       "      <td>1 Year International Travelers Warranty</td>\n",
       "      <td>₹28,990</td>\n",
       "    </tr>\n",
       "    <tr>\n",
       "      <th>20</th>\n",
       "      <td>ZEBRONICS Pro Series Z Intel Core i3 12th Gen ...</td>\n",
       "      <td>Intel Core i3 Processor (12th Gen)</td>\n",
       "      <td>8 GB DDR4 RAM</td>\n",
       "      <td>Windows 11 Operating System</td>\n",
       "      <td>512 GB SSD</td>\n",
       "      <td>39.62 cm (15.6 inch) Display</td>\n",
       "      <td>1 Year Carry-in Warranty</td>\n",
       "      <td>₹27,990</td>\n",
       "    </tr>\n",
       "    <tr>\n",
       "      <th>21</th>\n",
       "      <td>ZEBRONICS Pro Series Z Intel Core i5 12th Gen ...</td>\n",
       "      <td>Intel Core i5 Processor (12th Gen)</td>\n",
       "      <td>8 GB DDR4 RAM</td>\n",
       "      <td>Windows 11 Operating System</td>\n",
       "      <td>512 GB SSD</td>\n",
       "      <td>39.62 cm (15.6 inch) Display</td>\n",
       "      <td>1 Year Carry-in Warranty</td>\n",
       "      <td>₹33,990</td>\n",
       "    </tr>\n",
       "    <tr>\n",
       "      <th>22</th>\n",
       "      <td>HP AMD Ryzen 5 Hexa Core 5500U - (16 GB/512 GB...</td>\n",
       "      <td>AMD Ryzen 5 Hexa Core Processor</td>\n",
       "      <td>16 GB DDR4 RAM</td>\n",
       "      <td>64 bit Windows 11 Operating System</td>\n",
       "      <td>512 GB SSD</td>\n",
       "      <td>39.62 cm (15.6 Inch) Display</td>\n",
       "      <td>1 Year Onsite Warranty</td>\n",
       "      <td>₹45,790</td>\n",
       "    </tr>\n",
       "    <tr>\n",
       "      <th>23</th>\n",
       "      <td>HP 2023 AMD Athlon Dual Core 3050U - (8 GB/512...</td>\n",
       "      <td>AMD Athlon Dual Core Processor</td>\n",
       "      <td>8 GB DDR4 RAM</td>\n",
       "      <td>Windows 11 Operating System</td>\n",
       "      <td>512 GB SSD</td>\n",
       "      <td>39.62 cm (15.6 Inch) Display</td>\n",
       "      <td>1 Year Onsite Warranty</td>\n",
       "      <td>₹29,990</td>\n",
       "    </tr>\n",
       "    <tr>\n",
       "      <th>24</th>\n",
       "      <td>Lenovo IdeaPad Gaming 3 AMD Ryzen 5 Hexa Core ...</td>\n",
       "      <td>AMD Ryzen 5 Hexa Core Processor</td>\n",
       "      <td>16 GB DDR5 RAM</td>\n",
       "      <td>Windows 11 Operating System</td>\n",
       "      <td>512 GB SSD</td>\n",
       "      <td>39.62 cm (15.6 inch) Display</td>\n",
       "      <td>1 Year Onsite Warranty</td>\n",
       "      <td>₹60,990</td>\n",
       "    </tr>\n",
       "    <tr>\n",
       "      <th>25</th>\n",
       "      <td>HP 255 G9 840T7PA AMD Athlon Dual Core 3050U -...</td>\n",
       "      <td>AMD Athlon Dual Core Processor</td>\n",
       "      <td>4 GB DDR4 RAM</td>\n",
       "      <td>DOS Operating System</td>\n",
       "      <td>256 GB SSD</td>\n",
       "      <td>39.62 cm (15.6 Inch) Display</td>\n",
       "      <td>1 Year Onsite Warranty</td>\n",
       "      <td>₹19,990</td>\n",
       "    </tr>\n",
       "    <tr>\n",
       "      <th>26</th>\n",
       "      <td>Lenovo IdeaPad Slim 3 Intel Core i5 11th Gen 1...</td>\n",
       "      <td>Intel Core i5 Processor (11th Gen)</td>\n",
       "      <td>16 GB DDR4 RAM</td>\n",
       "      <td>Windows 11 Operating System</td>\n",
       "      <td>512 GB SSD</td>\n",
       "      <td>39.62 cm (15.6 inch) Display</td>\n",
       "      <td>1 Year Onsite Warranty + 1 Year ADP</td>\n",
       "      <td>₹43,990</td>\n",
       "    </tr>\n",
       "    <tr>\n",
       "      <th>27</th>\n",
       "      <td>WINGS Nuvobook S1 Aluminium Alloy Metal Body I...</td>\n",
       "      <td>Intel Core i3 Processor (11th Gen)</td>\n",
       "      <td>8 GB DDR4 RAM</td>\n",
       "      <td>Windows 11 Operating System</td>\n",
       "      <td>256 GB SSD</td>\n",
       "      <td>39.62 cm (15.6 Inch) Display</td>\n",
       "      <td>1 Year Onsite Warranty</td>\n",
       "      <td>₹27,990</td>\n",
       "    </tr>\n",
       "    <tr>\n",
       "      <th>28</th>\n",
       "      <td>Infinix INBook Y1 Plus Intel Intel Core i3 10t...</td>\n",
       "      <td>Intel Core i3 Processor (10th Gen)</td>\n",
       "      <td>8 GB LPDDR4X RAM</td>\n",
       "      <td>64 bit Windows 11 Operating System</td>\n",
       "      <td>512 GB SSD</td>\n",
       "      <td>39.62 cm (15.6 inch) Display</td>\n",
       "      <td>1 Year Onsite Warranty</td>\n",
       "      <td>₹25,990</td>\n",
       "    </tr>\n",
       "    <tr>\n",
       "      <th>29</th>\n",
       "      <td>ASUS Vivobook 15 Intel Core i3 11th Gen 1115G4...</td>\n",
       "      <td>Intel Core i3 Processor (11th Gen)</td>\n",
       "      <td>8 GB DDR4 RAM</td>\n",
       "      <td>Windows 11 Operating System</td>\n",
       "      <td>256 GB SSD</td>\n",
       "      <td>39.62 cm (15.6 Inch) Display</td>\n",
       "      <td>1 Year Onsite Warranty</td>\n",
       "      <td>₹27,990</td>\n",
       "    </tr>\n",
       "  </tbody>\n",
       "</table>\n",
       "</div>"
      ],
      "text/plain": [
       "                                                Title  \\\n",
       "0   Lenovo IdeaPad 1 AMD Athlon Dual Core 7120U - ...   \n",
       "1   ZEBRONICS Pro Series Z Intel Core i7 12th Gen ...   \n",
       "2   ASUS Vivobook 15 Intel Core i3 11th Gen 1115G4...   \n",
       "3   Lenovo IdeaPad Slim 1 Intel Celeron Dual Core ...   \n",
       "4   ASUS Vivobook Go 15 Intel Celeron Dual Core N4...   \n",
       "5   APPLE 2022 MacBook AIR Apple M2 - (8 GB/256 GB...   \n",
       "6   Acer Aspire 5 Intel Core i5 12th Gen 1235U - (...   \n",
       "7   ASUS TUF Gaming F15 - AI Powered Gaming Intel ...   \n",
       "8   HP Pavilion (2023) Eyesafe AMD Ryzen 5 Hexa Co...   \n",
       "9   Lenovo Intel Core i7 12th Gen 1255U - (16 GB/5...   \n",
       "10  Lenovo IdeaPad Slim 3 Intel Core i5 11th Gen 1...   \n",
       "11  WINGS Nuvobook S1 Aluminium Alloy Metal Body I...   \n",
       "12  HP 2023 AMD Ryzen 3 Dual Core 3250U - (8 GB/51...   \n",
       "13  MSI Modern 14 Intel Core i3 11th Gen 1115G4 - ...   \n",
       "14  ASUS Vivobook Go 15 (2023) AMD Ryzen 5 Quad Co...   \n",
       "15  Infinix Y1 Plus Neo Intel Intel Celeron Quad C...   \n",
       "16  WINGS Nuvobook V1 Aluminium Alloy Metal Body I...   \n",
       "17  Lenovo IdeaPad Slim 3 Intel Core i5 12th Gen 1...   \n",
       "18  Lenovo IdeaPad Slim 3 Intel Core i5 11th Gen 1...   \n",
       "19  Acer Extensa Intel Core i3 N305 - (8 GB/512 GB...   \n",
       "20  ZEBRONICS Pro Series Z Intel Core i3 12th Gen ...   \n",
       "21  ZEBRONICS Pro Series Z Intel Core i5 12th Gen ...   \n",
       "22  HP AMD Ryzen 5 Hexa Core 5500U - (16 GB/512 GB...   \n",
       "23  HP 2023 AMD Athlon Dual Core 3050U - (8 GB/512...   \n",
       "24  Lenovo IdeaPad Gaming 3 AMD Ryzen 5 Hexa Core ...   \n",
       "25  HP 255 G9 840T7PA AMD Athlon Dual Core 3050U -...   \n",
       "26  Lenovo IdeaPad Slim 3 Intel Core i5 11th Gen 1...   \n",
       "27  WINGS Nuvobook S1 Aluminium Alloy Metal Body I...   \n",
       "28  Infinix INBook Y1 Plus Intel Intel Core i3 10t...   \n",
       "29  ASUS Vivobook 15 Intel Core i3 11th Gen 1115G4...   \n",
       "\n",
       "                                       Processor                      RAM  \\\n",
       "0                 AMD Athlon Dual Core Processor          8 GB LPDDR5 RAM   \n",
       "1             Intel Core i7 Processor (12th Gen)           16 GB DDR4 RAM   \n",
       "2             Intel Core i3 Processor (11th Gen)            8 GB DDR4 RAM   \n",
       "3              Intel Celeron Dual Core Processor            8 GB DDR4 RAM   \n",
       "4              Intel Celeron Dual Core Processor            8 GB DDR4 RAM   \n",
       "5                             Apple M2 Processor  8 GB Unified Memory RAM   \n",
       "6             Intel Core i5 Processor (12th Gen)            8 GB DDR4 RAM   \n",
       "7             Intel Core i5 Processor (11th Gen)            8 GB DDR4 RAM   \n",
       "8                AMD Ryzen 5 Hexa Core Processor           16 GB DDR4 RAM   \n",
       "9             Intel Core i7 Processor (12th Gen)           16 GB DDR4 RAM   \n",
       "10            Intel Core i5 Processor (11th Gen)           16 GB DDR4 RAM   \n",
       "11            Intel Core i3 Processor (11th Gen)            8 GB DDR4 RAM   \n",
       "12               AMD Ryzen 3 Dual Core Processor            8 GB DDR4 RAM   \n",
       "13            Intel Core i3 Processor (11th Gen)            8 GB DDR4 RAM   \n",
       "14               AMD Ryzen 5 Quad Core Processor          8 GB LPDDR5 RAM   \n",
       "15  Intel Celeron Quad Core Processor (11th Gen)         8 GB LPDDR4X RAM   \n",
       "16            Intel Core i5 Processor (11th Gen)            8 GB DDR4 RAM   \n",
       "17            Intel Core i5 Processor (12th Gen)            8 GB DDR4 RAM   \n",
       "18            Intel Core i5 Processor (11th Gen)            8 GB DDR4 RAM   \n",
       "19                       Intel Core i3 Processor          8 GB LPDDR5 RAM   \n",
       "20            Intel Core i3 Processor (12th Gen)            8 GB DDR4 RAM   \n",
       "21            Intel Core i5 Processor (12th Gen)            8 GB DDR4 RAM   \n",
       "22               AMD Ryzen 5 Hexa Core Processor           16 GB DDR4 RAM   \n",
       "23                AMD Athlon Dual Core Processor            8 GB DDR4 RAM   \n",
       "24               AMD Ryzen 5 Hexa Core Processor           16 GB DDR5 RAM   \n",
       "25                AMD Athlon Dual Core Processor            4 GB DDR4 RAM   \n",
       "26            Intel Core i5 Processor (11th Gen)           16 GB DDR4 RAM   \n",
       "27            Intel Core i3 Processor (11th Gen)            8 GB DDR4 RAM   \n",
       "28            Intel Core i3 Processor (10th Gen)         8 GB LPDDR4X RAM   \n",
       "29            Intel Core i3 Processor (11th Gen)            8 GB DDR4 RAM   \n",
       "\n",
       "                                    OS      Memory  \\\n",
       "0          Windows 11 Operating System  512 GB SSD   \n",
       "1          Windows 11 Operating System  512 GB SSD   \n",
       "2   64 bit Windows 11 Operating System  256 GB SSD   \n",
       "3          Windows 11 Operating System  256 GB SSD   \n",
       "4          Windows 11 Operating System  256 GB SSD   \n",
       "5              Mac OS Operating System  256 GB SSD   \n",
       "6   64 bit Windows 11 Operating System  512 GB SSD   \n",
       "7          Windows 11 Operating System  512 GB SSD   \n",
       "8   64 bit Windows 11 Operating System  512 GB SSD   \n",
       "9          Windows 11 Operating System  512 GB SSD   \n",
       "10         Windows 11 Operating System  512 GB SSD   \n",
       "11         Windows 11 Operating System  256 GB SSD   \n",
       "12         Windows 11 Operating System  512 GB SSD   \n",
       "13         Windows 11 Operating System  512 GB SSD   \n",
       "14         Windows 11 Operating System  512 GB SSD   \n",
       "15         Windows 11 Operating System  512 GB SSD   \n",
       "16         Windows 11 Operating System  512 GB SSD   \n",
       "17  64 bit Windows 11 Operating System  512 GB SSD   \n",
       "18  64 bit Windows 11 Operating System  512 GB SSD   \n",
       "19  64 bit Windows 11 Operating System  512 GB SSD   \n",
       "20         Windows 11 Operating System  512 GB SSD   \n",
       "21         Windows 11 Operating System  512 GB SSD   \n",
       "22  64 bit Windows 11 Operating System  512 GB SSD   \n",
       "23         Windows 11 Operating System  512 GB SSD   \n",
       "24         Windows 11 Operating System  512 GB SSD   \n",
       "25                DOS Operating System  256 GB SSD   \n",
       "26         Windows 11 Operating System  512 GB SSD   \n",
       "27         Windows 11 Operating System  256 GB SSD   \n",
       "28  64 bit Windows 11 Operating System  512 GB SSD   \n",
       "29         Windows 11 Operating System  256 GB SSD   \n",
       "\n",
       "                          Display                                 Warranty  \\\n",
       "0    39.62 cm (15.6 inch) Display                 1 Year Carry-in Warranty   \n",
       "1    39.62 cm (15.6 inch) Display                 1 Year Carry-in Warranty   \n",
       "2    39.62 cm (15.6 Inch) Display                           Not Applicable   \n",
       "3      35.56 cm (14 Inch) Display        1 Year Onsite�Warranty�+ 1 Yr ADP   \n",
       "4    39.62 cm (15.6 Inch) Display                   1 Year Onsite Warranty   \n",
       "5    34.54 cm (13.6 Inch) Display                   1 Year Onsite Warranty   \n",
       "6    39.62 cm (15.6 Inch) Display  1 Year International Travelers Warranty   \n",
       "7    39.62 cm (15.6 Inch) Display                 1 Year Carry-in Warranty   \n",
       "8      35.56 cm (14 inch) Display                   1 Year Onsite Warranty   \n",
       "9    39.62 cm (15.6 Inch) Display                   1 Year Onsite Warranty   \n",
       "10   39.62 cm (15.6 inch) Display      1 Year Onsite Warranty + 1 Year ADP   \n",
       "11   39.62 cm (15.6 Inch) Display                   1 Year Onsite Warranty   \n",
       "12   39.62 cm (15.6 Inch) Display                   1 Year Onsite Warranty   \n",
       "13     35.56 cm (14 Inch) Display                 1 Year Carry-in Warranty   \n",
       "14   39.62 cm (15.6 Inch) Display                   1 Year Onsite Warranty   \n",
       "15  39.01 cm (15.36 inch) Display                   1 Year Onsite Warranty   \n",
       "16   39.62 cm (15.6 Inch) Display                   1 Year Onsite Warranty   \n",
       "17   39.62 cm (15.6 Inch) Display                          2 Year warranty   \n",
       "18   39.62 cm (15.6 inch) Display                    1Year Onsite warranty   \n",
       "19   39.62 cm (15.6 Inch) Display  1 Year International Travelers Warranty   \n",
       "20   39.62 cm (15.6 inch) Display                 1 Year Carry-in Warranty   \n",
       "21   39.62 cm (15.6 inch) Display                 1 Year Carry-in Warranty   \n",
       "22   39.62 cm (15.6 Inch) Display                   1 Year Onsite Warranty   \n",
       "23   39.62 cm (15.6 Inch) Display                   1 Year Onsite Warranty   \n",
       "24   39.62 cm (15.6 inch) Display                   1 Year Onsite Warranty   \n",
       "25   39.62 cm (15.6 Inch) Display                   1 Year Onsite Warranty   \n",
       "26   39.62 cm (15.6 inch) Display      1 Year Onsite Warranty + 1 Year ADP   \n",
       "27   39.62 cm (15.6 Inch) Display                   1 Year Onsite Warranty   \n",
       "28   39.62 cm (15.6 inch) Display                   1 Year Onsite Warranty   \n",
       "29   39.62 cm (15.6 Inch) Display                   1 Year Onsite Warranty   \n",
       "\n",
       "      Price  \n",
       "0   ₹26,990  \n",
       "1   ₹50,990  \n",
       "2   ₹27,999  \n",
       "3   ₹24,990  \n",
       "4   ₹24,990  \n",
       "5   ₹93,990  \n",
       "6   ₹44,990  \n",
       "7   ₹49,990  \n",
       "8   ₹56,490  \n",
       "9   ₹49,990  \n",
       "10  ₹43,990  \n",
       "11  ₹27,990  \n",
       "12  ₹33,490  \n",
       "13  ₹28,990  \n",
       "14  ₹37,990  \n",
       "15  ₹23,990  \n",
       "16  ₹27,990  \n",
       "17  ₹49,990  \n",
       "18  ₹40,990  \n",
       "19  ₹28,990  \n",
       "20  ₹27,990  \n",
       "21  ₹33,990  \n",
       "22  ₹45,790  \n",
       "23  ₹29,990  \n",
       "24  ₹60,990  \n",
       "25  ₹19,990  \n",
       "26  ₹43,990  \n",
       "27  ₹27,990  \n",
       "28  ₹25,990  \n",
       "29  ₹27,990  "
      ]
     },
     "execution_count": 233,
     "metadata": {},
     "output_type": "execute_result"
    }
   ],
   "source": [
    "df.head(30)"
   ]
  },
  {
   "cell_type": "code",
   "execution_count": 234,
   "id": "1a4b4a6c-cfc4-498b-8392-95bf0b4f9ee8",
   "metadata": {},
   "outputs": [],
   "source": [
    "file_path = 'df.csv'\n",
    "df.to_csv(file_path, index=False)"
   ]
  },
  {
   "cell_type": "code",
   "execution_count": null,
   "id": "57de25f3-4880-4b4e-8a7a-648636329c7b",
   "metadata": {},
   "outputs": [],
   "source": []
  }
 ],
 "metadata": {
  "kernelspec": {
   "display_name": "Python 3 (ipykernel)",
   "language": "python",
   "name": "python3"
  },
  "language_info": {
   "codemirror_mode": {
    "name": "ipython",
    "version": 3
   },
   "file_extension": ".py",
   "mimetype": "text/x-python",
   "name": "python",
   "nbconvert_exporter": "python",
   "pygments_lexer": "ipython3",
   "version": "3.12.0"
  }
 },
 "nbformat": 4,
 "nbformat_minor": 5
}
