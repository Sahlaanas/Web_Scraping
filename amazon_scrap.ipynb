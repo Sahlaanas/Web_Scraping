{
 "cells": [
  {
   "cell_type": "code",
   "execution_count": 18,
   "id": "6d4b868d-4b28-4af2-91de-2879f8ed17f4",
   "metadata": {},
   "outputs": [
    {
     "name": "stdout",
     "output_type": "stream",
     "text": [
      "Requirement already satisfied: autoscraper in /Library/Frameworks/Python.framework/Versions/3.12/lib/python3.12/site-packages (1.1.14)\n",
      "Requirement already satisfied: requests in /Library/Frameworks/Python.framework/Versions/3.12/lib/python3.12/site-packages (from autoscraper) (2.31.0)\n",
      "Requirement already satisfied: bs4 in /Library/Frameworks/Python.framework/Versions/3.12/lib/python3.12/site-packages (from autoscraper) (0.0.1)\n",
      "Requirement already satisfied: lxml in /Library/Frameworks/Python.framework/Versions/3.12/lib/python3.12/site-packages (from autoscraper) (4.9.3)\n",
      "Requirement already satisfied: beautifulsoup4 in /Library/Frameworks/Python.framework/Versions/3.12/lib/python3.12/site-packages (from bs4->autoscraper) (4.12.2)\n",
      "Requirement already satisfied: charset-normalizer<4,>=2 in /Library/Frameworks/Python.framework/Versions/3.12/lib/python3.12/site-packages (from requests->autoscraper) (3.3.2)\n",
      "Requirement already satisfied: idna<4,>=2.5 in /Library/Frameworks/Python.framework/Versions/3.12/lib/python3.12/site-packages (from requests->autoscraper) (3.4)\n",
      "Requirement already satisfied: urllib3<3,>=1.21.1 in /Library/Frameworks/Python.framework/Versions/3.12/lib/python3.12/site-packages (from requests->autoscraper) (2.1.0)\n",
      "Requirement already satisfied: certifi>=2017.4.17 in /Library/Frameworks/Python.framework/Versions/3.12/lib/python3.12/site-packages (from requests->autoscraper) (2023.11.17)\n",
      "Requirement already satisfied: soupsieve>1.2 in /Library/Frameworks/Python.framework/Versions/3.12/lib/python3.12/site-packages (from beautifulsoup4->bs4->autoscraper) (2.5)\n"
     ]
    }
   ],
   "source": [
    "!pip3 install autoscraper"
   ]
  },
  {
   "cell_type": "code",
   "execution_count": 19,
   "id": "eb4e3f9b-09b8-43bf-8e83-6d6810c0ec6f",
   "metadata": {},
   "outputs": [],
   "source": [
    "url = \"https://www.amazon.in/s?k=headphones\"\n"
   ]
  },
  {
   "cell_type": "code",
   "execution_count": 20,
   "id": "535e1bd3-a960-465d-9a53-d687e8dcc693",
   "metadata": {},
   "outputs": [],
   "source": [
    "from autoscraper import AutoScraper\n",
    "wanted_list = ['₹849','boAt BassHeads 900 On-Ear Wired Headphone with Mic','96,333']"
   ]
  },
  {
   "cell_type": "code",
   "execution_count": 21,
   "id": "a40fd061-ee8b-4a83-a758-4f507bc67ff2",
   "metadata": {},
   "outputs": [],
   "source": [
    "scraper = AutoScraper()\n",
    "result = scraper.build(url,wanted_list)"
   ]
  },
  {
   "cell_type": "code",
   "execution_count": 22,
   "id": "ffcb1e70-4e07-4c00-8556-ebfc0b001f85",
   "metadata": {},
   "outputs": [
    {
     "data": {
      "text/plain": [
       "[]"
      ]
     },
     "execution_count": 22,
     "metadata": {},
     "output_type": "execute_result"
    }
   ],
   "source": [
    "result"
   ]
  },
  {
   "cell_type": "code",
   "execution_count": 23,
   "id": "2c3d2b86-105b-4524-ba16-cd26e27edaaa",
   "metadata": {},
   "outputs": [
    {
     "data": {
      "text/plain": [
       "{}"
      ]
     },
     "execution_count": 23,
     "metadata": {},
     "output_type": "execute_result"
    }
   ],
   "source": [
    "scraper.get_result_similar(url,grouped=True)"
   ]
  },
  {
   "cell_type": "code",
   "execution_count": 24,
   "id": "058d6f15-32f6-4766-8830-b8d658a0e569",
   "metadata": {},
   "outputs": [
    {
     "ename": "KeyError",
     "evalue": "'rule_0dy9'",
     "output_type": "error",
     "traceback": [
      "\u001b[0;31m---------------------------------------------------------------------------\u001b[0m",
      "\u001b[0;31mKeyError\u001b[0m                                  Traceback (most recent call last)",
      "Cell \u001b[0;32mIn[24], line 1\u001b[0m\n\u001b[0;32m----> 1\u001b[0m \u001b[43mscraper\u001b[49m\u001b[38;5;241;43m.\u001b[39;49m\u001b[43mset_rule_aliases\u001b[49m\u001b[43m(\u001b[49m\u001b[43m{\u001b[49m\u001b[38;5;124;43m'\u001b[39;49m\u001b[38;5;124;43mrule_0dy9\u001b[39;49m\u001b[38;5;124;43m'\u001b[39;49m\u001b[43m:\u001b[49m\u001b[38;5;124;43m'\u001b[39;49m\u001b[38;5;124;43mTitle\u001b[39;49m\u001b[38;5;124;43m'\u001b[39;49m\u001b[43m,\u001b[49m\u001b[38;5;124;43m'\u001b[39;49m\u001b[38;5;124;43mrule_v80t\u001b[39;49m\u001b[38;5;124;43m'\u001b[39;49m\u001b[43m:\u001b[49m\u001b[38;5;124;43m'\u001b[39;49m\u001b[38;5;124;43mPrice\u001b[39;49m\u001b[38;5;124;43m'\u001b[39;49m\u001b[43m}\u001b[49m\u001b[43m)\u001b[49m\n\u001b[1;32m      2\u001b[0m scraper\u001b[38;5;241m.\u001b[39mkeep_rules([\u001b[38;5;124m'\u001b[39m\u001b[38;5;124mrule_0dy9\u001b[39m\u001b[38;5;124m'\u001b[39m,\u001b[38;5;124m'\u001b[39m\u001b[38;5;124mrule_v80t\u001b[39m\u001b[38;5;124m'\u001b[39m])\n\u001b[1;32m      3\u001b[0m scraper\u001b[38;5;241m.\u001b[39msave(\u001b[38;5;124m'\u001b[39m\u001b[38;5;124mamazon_search\u001b[39m\u001b[38;5;124m'\u001b[39m)\n",
      "File \u001b[0;32m/Library/Frameworks/Python.framework/Versions/3.12/lib/python3.12/site-packages/autoscraper/auto_scraper.py:719\u001b[0m, in \u001b[0;36mAutoScraper.set_rule_aliases\u001b[0;34m(self, rule_aliases)\u001b[0m\n\u001b[1;32m    717\u001b[0m id_to_stack \u001b[38;5;241m=\u001b[39m {stack[\u001b[38;5;124m\"\u001b[39m\u001b[38;5;124mstack_id\u001b[39m\u001b[38;5;124m\"\u001b[39m]: stack \u001b[38;5;28;01mfor\u001b[39;00m stack \u001b[38;5;129;01min\u001b[39;00m \u001b[38;5;28mself\u001b[39m\u001b[38;5;241m.\u001b[39mstack_list}\n\u001b[1;32m    718\u001b[0m \u001b[38;5;28;01mfor\u001b[39;00m rule_id, alias \u001b[38;5;129;01min\u001b[39;00m rule_aliases\u001b[38;5;241m.\u001b[39mitems():\n\u001b[0;32m--> 719\u001b[0m     \u001b[43mid_to_stack\u001b[49m\u001b[43m[\u001b[49m\u001b[43mrule_id\u001b[49m\u001b[43m]\u001b[49m[\u001b[38;5;124m\"\u001b[39m\u001b[38;5;124malias\u001b[39m\u001b[38;5;124m\"\u001b[39m] \u001b[38;5;241m=\u001b[39m alias\n",
      "\u001b[0;31mKeyError\u001b[0m: 'rule_0dy9'"
     ]
    }
   ],
   "source": [
    "scraper.set_rule_aliases({'rule_0dy9':'Title','rule_v80t':'Price'})\n",
    "scraper.keep_rules(['rule_0dy9','rule_v80t'])\n",
    "scraper.save('amazon_search')\n",
    "                         "
   ]
  },
  {
   "cell_type": "code",
   "execution_count": 15,
   "id": "502afdcd-1ecd-473a-8ac0-466252815c35",
   "metadata": {},
   "outputs": [],
   "source": [
    "results = scraper.get_result_similar('https://www.amazon.in/s?k=iphone&crid=2BZUL9Z5WJ5QW&sprefix=iphone%2Caps%2C422&ref=nb_sb_ss_ts-doa-p_2_6',group_by_alias=True)"
   ]
  },
  {
   "cell_type": "code",
   "execution_count": 16,
   "id": "60fca9bc-7ecc-46a5-8b4b-3288dc3d8b84",
   "metadata": {},
   "outputs": [
    {
     "ename": "KeyError",
     "evalue": "'Title'",
     "output_type": "error",
     "traceback": [
      "\u001b[0;31m---------------------------------------------------------------------------\u001b[0m",
      "\u001b[0;31mKeyError\u001b[0m                                  Traceback (most recent call last)",
      "Cell \u001b[0;32mIn[16], line 1\u001b[0m\n\u001b[0;32m----> 1\u001b[0m \u001b[43mresults\u001b[49m\u001b[43m[\u001b[49m\u001b[38;5;124;43m'\u001b[39;49m\u001b[38;5;124;43mTitle\u001b[39;49m\u001b[38;5;124;43m'\u001b[39;49m\u001b[43m]\u001b[49m\n",
      "\u001b[0;31mKeyError\u001b[0m: 'Title'"
     ]
    }
   ],
   "source": [
    "results['Title']"
   ]
  },
  {
   "cell_type": "code",
   "execution_count": 11,
   "id": "d1a60b05-6e76-4340-b600-836a89cea89e",
   "metadata": {},
   "outputs": [],
   "source": [
    "import pandas as pd"
   ]
  },
  {
   "cell_type": "code",
   "execution_count": 12,
   "id": "a0e52688-6dd7-488b-b8f0-beecaaf9ce4a",
   "metadata": {},
   "outputs": [],
   "source": [
    "df = pd.DataFrame(results)"
   ]
  },
  {
   "cell_type": "code",
   "execution_count": 13,
   "id": "b1b410b7-17bb-49d3-bfa5-fa8b5065fb01",
   "metadata": {},
   "outputs": [
    {
     "data": {
      "text/html": [
       "<div>\n",
       "<style scoped>\n",
       "    .dataframe tbody tr th:only-of-type {\n",
       "        vertical-align: middle;\n",
       "    }\n",
       "\n",
       "    .dataframe tbody tr th {\n",
       "        vertical-align: top;\n",
       "    }\n",
       "\n",
       "    .dataframe thead th {\n",
       "        text-align: right;\n",
       "    }\n",
       "</style>\n",
       "<table border=\"1\" class=\"dataframe\">\n",
       "  <thead>\n",
       "    <tr style=\"text-align: right;\">\n",
       "      <th></th>\n",
       "      <th>Price</th>\n",
       "      <th>Title</th>\n",
       "    </tr>\n",
       "  </thead>\n",
       "  <tbody>\n",
       "    <tr>\n",
       "      <th>0</th>\n",
       "      <td>₹76,990</td>\n",
       "      <td>AppleiPhone 15 (128 GB) - Black</td>\n",
       "    </tr>\n",
       "    <tr>\n",
       "      <th>1</th>\n",
       "      <td>₹52,999</td>\n",
       "      <td>AppleiPhone 13 (128GB) - Blue</td>\n",
       "    </tr>\n",
       "    <tr>\n",
       "      <th>2</th>\n",
       "      <td>₹52,999</td>\n",
       "      <td>AppleiPhone 13 (128GB) - Pink</td>\n",
       "    </tr>\n",
       "    <tr>\n",
       "      <th>3</th>\n",
       "      <td>₹51,999</td>\n",
       "      <td>AppleiPhone 13 (128GB) - (Product) RED</td>\n",
       "    </tr>\n",
       "    <tr>\n",
       "      <th>4</th>\n",
       "      <td>₹76,990</td>\n",
       "      <td>AppleiPhone 15 (128 GB) - Blue</td>\n",
       "    </tr>\n",
       "    <tr>\n",
       "      <th>5</th>\n",
       "      <td>₹1,61,990</td>\n",
       "      <td>AppleiPhone 15 Pro (512 GB) - White Titanium</td>\n",
       "    </tr>\n",
       "    <tr>\n",
       "      <th>6</th>\n",
       "      <td>₹49,900</td>\n",
       "      <td>AppleiPhone 12 (64GB) - Purple</td>\n",
       "    </tr>\n",
       "    <tr>\n",
       "      <th>7</th>\n",
       "      <td>₹86,990</td>\n",
       "      <td>AppleiPhone 15 Plus (128 GB) - Black</td>\n",
       "    </tr>\n",
       "    <tr>\n",
       "      <th>8</th>\n",
       "      <td>₹1,41,900</td>\n",
       "      <td>AppleiPhone 15 Pro (256 GB) - Natural Titanium</td>\n",
       "    </tr>\n",
       "    <tr>\n",
       "      <th>9</th>\n",
       "      <td>₹1,56,990</td>\n",
       "      <td>AppleiPhone 15 Pro Max (256 GB) - Natural Tita...</td>\n",
       "    </tr>\n",
       "    <tr>\n",
       "      <th>10</th>\n",
       "      <td>₹86,990</td>\n",
       "      <td>AppleiPhone 15 (256 GB) - Blue</td>\n",
       "    </tr>\n",
       "    <tr>\n",
       "      <th>11</th>\n",
       "      <td>₹76,990</td>\n",
       "      <td>AppleiPhone 15 (128 GB) - Green</td>\n",
       "    </tr>\n",
       "    <tr>\n",
       "      <th>12</th>\n",
       "      <td>₹96,990</td>\n",
       "      <td>AppleiPhone 15 Plus (256 GB) - Blue</td>\n",
       "    </tr>\n",
       "    <tr>\n",
       "      <th>13</th>\n",
       "      <td>₹76,990</td>\n",
       "      <td>AppleiPhone 15 (128 GB) - Pink</td>\n",
       "    </tr>\n",
       "    <tr>\n",
       "      <th>14</th>\n",
       "      <td>₹86,990</td>\n",
       "      <td>AppleiPhone 15 Plus (128 GB) - Blue</td>\n",
       "    </tr>\n",
       "    <tr>\n",
       "      <th>15</th>\n",
       "      <td>₹63,999</td>\n",
       "      <td>AppleiPhone 13 (256GB) - Pink</td>\n",
       "    </tr>\n",
       "  </tbody>\n",
       "</table>\n",
       "</div>"
      ],
      "text/plain": [
       "        Price                                              Title\n",
       "0     ₹76,990                    AppleiPhone 15 (128 GB) - Black\n",
       "1     ₹52,999                      AppleiPhone 13 (128GB) - Blue\n",
       "2     ₹52,999                      AppleiPhone 13 (128GB) - Pink\n",
       "3     ₹51,999             AppleiPhone 13 (128GB) - (Product) RED\n",
       "4     ₹76,990                     AppleiPhone 15 (128 GB) - Blue\n",
       "5   ₹1,61,990       AppleiPhone 15 Pro (512 GB) - White Titanium\n",
       "6     ₹49,900                     AppleiPhone 12 (64GB) - Purple\n",
       "7     ₹86,990               AppleiPhone 15 Plus (128 GB) - Black\n",
       "8   ₹1,41,900     AppleiPhone 15 Pro (256 GB) - Natural Titanium\n",
       "9   ₹1,56,990  AppleiPhone 15 Pro Max (256 GB) - Natural Tita...\n",
       "10    ₹86,990                     AppleiPhone 15 (256 GB) - Blue\n",
       "11    ₹76,990                    AppleiPhone 15 (128 GB) - Green\n",
       "12    ₹96,990                AppleiPhone 15 Plus (256 GB) - Blue\n",
       "13    ₹76,990                     AppleiPhone 15 (128 GB) - Pink\n",
       "14    ₹86,990                AppleiPhone 15 Plus (128 GB) - Blue\n",
       "15    ₹63,999                      AppleiPhone 13 (256GB) - Pink"
      ]
     },
     "execution_count": 13,
     "metadata": {},
     "output_type": "execute_result"
    }
   ],
   "source": [
    "df"
   ]
  },
  {
   "cell_type": "code",
   "execution_count": 14,
   "id": "eeba14b4-9d3d-4f3c-9b06-1d090ed59793",
   "metadata": {},
   "outputs": [
    {
     "data": {
      "text/plain": [
       "[]"
      ]
     },
     "execution_count": 14,
     "metadata": {},
     "output_type": "execute_result"
    }
   ],
   "source": []
  },
  {
   "cell_type": "code",
   "execution_count": null,
   "id": "98e55247-2cff-469d-8c55-f6dd22011da7",
   "metadata": {},
   "outputs": [],
   "source": []
  }
 ],
 "metadata": {
  "kernelspec": {
   "display_name": "Python 3 (ipykernel)",
   "language": "python",
   "name": "python3"
  },
  "language_info": {
   "codemirror_mode": {
    "name": "ipython",
    "version": 3
   },
   "file_extension": ".py",
   "mimetype": "text/x-python",
   "name": "python",
   "nbconvert_exporter": "python",
   "pygments_lexer": "ipython3",
   "version": "3.12.0"
  }
 },
 "nbformat": 4,
 "nbformat_minor": 5
}
